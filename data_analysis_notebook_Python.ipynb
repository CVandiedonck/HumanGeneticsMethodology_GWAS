{
 "cells": [
  {
   "cell_type": "markdown",
   "metadata": {},
   "source": [
    "# Notebook for GWAS analysis"
   ]
  },
  {
   "cell_type": "markdown",
   "metadata": {},
   "source": [
    "Rpy2 allows to exectute R commands inside a Python notebook"
   ]
  },
  {
   "cell_type": "code",
   "execution_count": 1,
   "metadata": {},
   "outputs": [
    {
     "name": "stderr",
     "output_type": "stream",
     "text": [
      "/home/pierre/.soft/miniconda3/envs/TP-GWAS/lib/python3.7/site-packages/rpy2/ipython/rmagic.py:76: UserWarning: The Python package 'pandas' is strongly recommended when using `rpy2.ipython`. Unfortunately it could not be loaded, as we did not manage to load 'numpy' first.\n",
      "  warnings.warn(' '.join((\"The Python package 'pandas' is strongly\",\n"
     ]
    }
   ],
   "source": [
    "%load_ext rpy2.ipython"
   ]
  },
  {
   "cell_type": "markdown",
   "metadata": {},
   "source": [
    "# Merge cases and controls files"
   ]
  },
  {
   "cell_type": "code",
   "execution_count": 2,
   "metadata": {},
   "outputs": [
    {
     "name": "stdout",
     "output_type": "stream",
     "text": [
      "PLINK v1.90b6.12 64-bit (28 Oct 2019)          www.cog-genomics.org/plink/1.9/\n",
      "(C) 2005-2019 Shaun Purcell, Christopher Chang   GNU General Public License v3\n",
      "Logging to output/ic_cases.log.\n",
      "Options in effect:\n",
      "  --bfile input/ic_cases\n",
      "  --make-bed\n",
      "  --out output/ic_cases\n",
      "\n",
      "31930 MB RAM detected; reserving 15965 MB for main workspace.\n",
      "196524 variants loaded from .bim file.\n",
      "241 people (127 males, 114 females) loaded from .fam.\n",
      "241 phenotype values loaded from .fam.\n",
      "Using 1 thread (no multithreaded calculations invoked).\n",
      "Before main variant filters, 3 founders and 238 nonfounders present.\n",
      "Calculating allele frequencies... 10111213141516171819202122232425262728293031323334353637383940414243444546474849505152535455565758596061626364656667686970717273747576777879808182838485868788899091929394959697989 done.\n",
      "Total genotyping rate is 0.964361.\n",
      "196524 variants and 241 people pass filters and QC.\n",
      "Among remaining phenotypes, 241 are cases and 0 are controls.\n",
      "--make-bed to output/ic_cases.bed + output/ic_cases.bim + output/ic_cases.fam\n",
      "... 101112131415161718192021222324252627282930313233343536373839404142434445464748495051525354555657585960616263646566676869707172737475767778798081828384858687888990919293949596979899done.\n",
      "PLINK v1.90b6.12 64-bit (28 Oct 2019)          www.cog-genomics.org/plink/1.9/\n",
      "(C) 2005-2019 Shaun Purcell, Christopher Chang   GNU General Public License v3\n",
      "Logging to output/ic_controls.log.\n",
      "Options in effect:\n",
      "  --bfile input/ic_controls\n",
      "  --make-bed\n",
      "  --out output/ic_controls\n",
      "\n",
      "31930 MB RAM detected; reserving 15965 MB for main workspace.\n",
      "116513 variants loaded from .bim file.\n",
      "357 people (182 males, 175 females) loaded from .fam.\n",
      "357 phenotype values loaded from .fam.\n",
      "Using 1 thread (no multithreaded calculations invoked).\n",
      "Before main variant filters, 357 founders and 0 nonfounders present.\n",
      "Calculating allele frequencies... 10111213141516171819202122232425262728293031323334353637383940414243444546474849505152535455565758596061626364656667686970717273747576777879808182838485868788899091929394959697989 done.\n",
      "Total genotyping rate is 0.998923.\n",
      "116513 variants and 357 people pass filters and QC.\n",
      "Among remaining phenotypes, 0 are cases and 357 are controls.\n",
      "--make-bed to output/ic_controls.bed + output/ic_controls.bim +\n",
      "output/ic_controls.fam ... 101112131415161718192021222324252627282930313233343536373839404142434445464748495051525354555657585960616263646566676869707172737475767778798081828384858687888990919293949596979899done.\n",
      "PLINK v1.90b6.12 64-bit (28 Oct 2019)          www.cog-genomics.org/plink/1.9/\n",
      "(C) 2005-2019 Shaun Purcell, Christopher Chang   GNU General Public License v3\n",
      "Logging to output/ic_cases_autosomes.log.\n",
      "Options in effect:\n",
      "  --bfile output/ic_cases\n",
      "  --exclude input/toexclude.txt\n",
      "  --make-bed\n",
      "  --out output/ic_cases_autosomes\n",
      "\n",
      "31930 MB RAM detected; reserving 15965 MB for main workspace.\n",
      "196524 variants loaded from .bim file.\n",
      "241 people (127 males, 114 females) loaded from .fam.\n",
      "241 phenotype values loaded from .fam.\n",
      "--exclude: 191987 variants remaining.\n",
      "Using 1 thread (no multithreaded calculations invoked).\n",
      "Before main variant filters, 3 founders and 238 nonfounders present.\n",
      "Calculating allele frequencies... 10111213141516171819202122232425262728293031323334353637383940414243444546474849505152535455565758596061626364656667686970717273747576777879808182838485868788899091929394959697989 done.\n",
      "Total genotyping rate is 0.966511.\n",
      "191987 variants and 241 people pass filters and QC.\n",
      "Among remaining phenotypes, 241 are cases and 0 are controls.\n",
      "--make-bed to output/ic_cases_autosomes.bed + output/ic_cases_autosomes.bim +\n",
      "output/ic_cases_autosomes.fam ... 101112131415161718192021222324252627282930313233343536373839404142434445464748495051525354555657585960616263646566676869707172737475767778798081828384858687888990919293949596979899done.\n",
      "PLINK v1.90b6.12 64-bit (28 Oct 2019)          www.cog-genomics.org/plink/1.9/\n",
      "(C) 2005-2019 Shaun Purcell, Christopher Chang   GNU General Public License v3\n",
      "Logging to output/t1dcc.log.\n",
      "Options in effect:\n",
      "  --bfile output/ic_controls\n",
      "  --bmerge output/ic_cases_autosomes.bed output/ic_cases_autosomes.bim output/ic_cases_autosomes.fam\n",
      "  --make-bed\n",
      "  --out output/t1dcc\n",
      "\n",
      "31930 MB RAM detected; reserving 15965 MB for main workspace.\n",
      "357 people loaded from output/ic_controls.fam.\n",
      "241 people to be merged from output/ic_cases_autosomes.fam.\n",
      "Of these, 241 are new, while 0 are present in the base dataset.\n",
      "116513 markers loaded from output/ic_controls.bim.\n",
      "191987 markers to be merged from output/ic_cases_autosomes.bim.\n",
      "Of these, 76160 are new, while 115827 are present in the base dataset.\n",
      "PLINK v1.90b6.12 64-bit (28 Oct 2019)          www.cog-genomics.org/plink/1.9/\n",
      "(C) 2005-2019 Shaun Purcell, Christopher Chang   GNU General Public License v3\n",
      "Logging to input/ic_controls2.log.\n",
      "Options in effect:\n",
      "  --bfile output/ic_controls\n",
      "  --exclude input/rs3754055.txt\n",
      "  --make-bed\n",
      "  --out input/ic_controls2\n",
      "\n",
      "31930 MB RAM detected; reserving 15965 MB for main workspace.\n",
      "116513 variants loaded from .bim file.\n",
      "357 people (182 males, 175 females) loaded from .fam.\n",
      "357 phenotype values loaded from .fam.\n",
      "--exclude: 116512 variants remaining.\n",
      "Using 1 thread (no multithreaded calculations invoked).\n",
      "Before main variant filters, 357 founders and 0 nonfounders present.\n",
      "Calculating allele frequencies... 10111213141516171819202122232425262728293031323334353637383940414243444546474849505152535455565758596061626364656667686970717273747576777879808182838485868788899091929394959697989 done.\n",
      "Total genotyping rate is 0.998923.\n",
      "116512 variants and 357 people pass filters and QC.\n",
      "Among remaining phenotypes, 0 are cases and 357 are controls.\n",
      "--make-bed to input/ic_controls2.bed + input/ic_controls2.bim +\n",
      "input/ic_controls2.fam ... 101112131415161718192021222324252627282930313233343536373839404142434445464748495051525354555657585960616263646566676869707172737475767778798081828384858687888990919293949596979899done.\n",
      "PLINK v1.90b6.12 64-bit (28 Oct 2019)          www.cog-genomics.org/plink/1.9/\n",
      "(C) 2005-2019 Shaun Purcell, Christopher Chang   GNU General Public License v3\n",
      "Logging to input/ic_cases_autosomes2.log.\n",
      "Options in effect:\n",
      "  --bfile output/ic_cases_autosomes\n",
      "  --exclude input/rs3754055.txt\n",
      "  --make-bed\n",
      "  --out input/ic_cases_autosomes2\n",
      "\n",
      "31930 MB RAM detected; reserving 15965 MB for main workspace.\n",
      "191987 variants loaded from .bim file.\n",
      "241 people (127 males, 114 females) loaded from .fam.\n",
      "241 phenotype values loaded from .fam.\n",
      "--exclude: 191986 variants remaining.\n",
      "Using 1 thread (no multithreaded calculations invoked).\n",
      "Before main variant filters, 3 founders and 238 nonfounders present.\n",
      "Calculating allele frequencies... 10111213141516171819202122232425262728293031323334353637383940414243444546474849505152535455565758596061626364656667686970717273747576777879808182838485868788899091929394959697989 done.\n",
      "Total genotyping rate is 0.966511.\n",
      "191986 variants and 241 people pass filters and QC.\n",
      "Among remaining phenotypes, 241 are cases and 0 are controls.\n",
      "--make-bed to input/ic_cases_autosomes2.bed + input/ic_cases_autosomes2.bim +\n",
      "input/ic_cases_autosomes2.fam ... 101112131415161718192021222324252627282930313233343536373839404142434445464748495051525354555657585960616263646566676869707172737475767778798081828384858687888990919293949596979899done.\n",
      "PLINK v1.90b6.12 64-bit (28 Oct 2019)          www.cog-genomics.org/plink/1.9/\n",
      "(C) 2005-2019 Shaun Purcell, Christopher Chang   GNU General Public License v3\n",
      "Logging to output/ic_controls_flipped.log.\n",
      "Options in effect:\n",
      "  --bfile output/ic_controls\n",
      "  --flip output/t1dcc-merge.missnp\n",
      "  --make-bed\n",
      "  --out output/ic_controls_flipped\n",
      "\n",
      "31930 MB RAM detected; reserving 15965 MB for main workspace.\n",
      "116513 variants loaded from .bim file.\n",
      "357 people (182 males, 175 females) loaded from .fam.\n",
      "357 phenotype values loaded from .fam.\n",
      "--flip: 5 SNPs flipped.\n",
      "Using 1 thread (no multithreaded calculations invoked).\n",
      "Before main variant filters, 357 founders and 0 nonfounders present.\n",
      "Calculating allele frequencies... 10111213141516171819202122232425262728293031323334353637383940414243444546474849505152535455565758596061626364656667686970717273747576777879808182838485868788899091929394959697989 done.\n",
      "Total genotyping rate is 0.998923.\n",
      "116513 variants and 357 people pass filters and QC.\n",
      "Among remaining phenotypes, 0 are cases and 357 are controls.\n",
      "--make-bed to output/ic_controls_flipped.bed + output/ic_controls_flipped.bim +\n",
      "output/ic_controls_flipped.fam ... 101112131415161718192021222324252627282930313233343536373839404142434445464748495051525354555657585960616263646566676869707172737475767778798081828384858687888990919293949596979899done.\n",
      "PLINK v1.90b6.12 64-bit (28 Oct 2019)          www.cog-genomics.org/plink/1.9/\n",
      "(C) 2005-2019 Shaun Purcell, Christopher Chang   GNU General Public License v3\n",
      "Logging to output/t1dcc.log.\n",
      "Options in effect:\n",
      "  --bfile output/ic_controls_flipped\n",
      "  --bmerge input/ic_cases_autosomes2.bed input/ic_cases_autosomes2.bim input/ic_cases_autosomes2.fam\n",
      "  --make-bed\n",
      "  --out output/t1dcc\n",
      "\n",
      "31930 MB RAM detected; reserving 15965 MB for main workspace.\n",
      "357 people loaded from output/ic_controls_flipped.fam.\n",
      "241 people to be merged from input/ic_cases_autosomes2.fam.\n",
      "Of these, 241 are new, while 0 are present in the base dataset.\n",
      "116513 markers loaded from output/ic_controls_flipped.bim.\n",
      "191986 markers to be merged from input/ic_cases_autosomes2.bim.\n",
      "Of these, 76160 are new, while 115826 are present in the base dataset.\n",
      "Performing single-pass merge (598 people, 192673 variants).\n",
      "Merged fileset written to output/t1dcc-merge.bed + output/t1dcc-merge.bim +\n",
      "output/t1dcc-merge.fam .\n",
      "192673 variants loaded from .bim file.\n",
      "598 people (309 males, 289 females) loaded from .fam.\n",
      "598 phenotype values loaded from .fam.\n",
      "Using 1 thread (no multithreaded calculations invoked).\n",
      "Before main variant filters, 360 founders and 238 nonfounders present.\n",
      "Calculating allele frequencies... 10111213141516171819202122232425262728293031323334353637383940414243444546474849505152535455565758596061626364656667686970717273747576777879808182838485868788899091929394959697989 done.\n",
      "Total genotyping rate is 0.748747.\n",
      "192673 variants and 598 people pass filters and QC.\n",
      "Among remaining phenotypes, 241 are cases and 357 are controls.\n",
      "--make-bed to output/t1dcc.bed + output/t1dcc.bim + output/t1dcc.fam ... 101112131415161718192021222324252627282930313233343536373839404142434445464748495051525354555657585960616263646566676869707172737475767778798081828384858687888990919293949596979899done.\n"
     ]
    },
    {
     "name": "stderr",
     "output_type": "stream",
     "text": [
      "Warning: 31024 het. haploid genotypes present (see output/ic_cases.hh ); many\n",
      "commands treat these as missing.\n",
      "Warning: Nonmissing nonmale Y chromosome genotype(s) present; many commands\n",
      "treat these as missing.\n",
      "Warning: Multiple positions seen for variant 'rs3754055'.\n",
      "Error: 5 variants with 3+ alleles present.\n",
      "* If you believe this is due to strand inconsistency, try --flip with\n",
      "  output/t1dcc-merge.missnp.\n",
      "  (Warning: if this seems to work, strand errors involving SNPs with A/T or C/G\n",
      "  alleles probably remain in your data.  If LD between nearby SNPs is high,\n",
      "  --flip-scan should detect them.)\n",
      "* If you are dealing with genuine multiallelic variants, we recommend exporting\n",
      "  that subset of the data to VCF (via e.g. '--recode vcf'), merging with\n",
      "  another tool/script, and then importing the result; PLINK is not yet suited\n",
      "  to handling them.\n",
      "Warning: Variants 'rs3748816_dup' and 'rs3748816' have the same position.\n",
      "Warning: Variants 'rs146106400' and 'imm_1_2571944' have the same position.\n",
      "Warning: Variants 'rs147517259' and 'imm_1_2711381' have the same position.\n",
      "1434 more same-position warnings: see log file.\n"
     ]
    }
   ],
   "source": [
    "%%bash\n",
    "\n",
    "plink --bfile input/ic_cases --make-bed --out output/ic_cases\n",
    "plink --bfile input/ic_controls --make-bed --out output/ic_controls\n",
    "plink --bfile output/ic_cases --exclude input/toexclude.txt --make-bed --out output/ic_cases_autosomes\n",
    "plink --bfile output/ic_controls --bmerge output/ic_cases_autosomes.bed output/ic_cases_autosomes.bim output/ic_cases_autosomes.fam --make-bed --out output/t1dcc\n",
    "plink --bfile output/ic_controls --exclude input/rs3754055.txt --make-bed --out input/ic_controls2\n",
    "plink --bfile output/ic_cases_autosomes --exclude input/rs3754055.txt --make-bed --out input/ic_cases_autosomes2\n",
    "plink --bfile output/ic_controls --flip output/t1dcc-merge.missnp --make-bed --out output/ic_controls_flipped\n",
    "plink --bfile output/ic_controls_flipped --bmerge input/ic_cases_autosomes2.bed input/ic_cases_autosomes2.bim input/ic_cases_autosomes2.fam --make-bed --out output/t1dcc"
   ]
  },
  {
   "cell_type": "markdown",
   "metadata": {},
   "source": [
    "# Clean SNPs"
   ]
  },
  {
   "cell_type": "code",
   "execution_count": 3,
   "metadata": {},
   "outputs": [
    {
     "name": "stdout",
     "output_type": "stream",
     "text": [
      "PLINK v1.90b6.12 64-bit (28 Oct 2019)          www.cog-genomics.org/plink/1.9/\n",
      "(C) 2005-2019 Shaun Purcell, Christopher Chang   GNU General Public License v3\n",
      "Logging to output/filter1.log.\n",
      "Options in effect:\n",
      "  --bfile output/t1dcc\n",
      "  --geno 0.05\n",
      "  --make-bed\n",
      "  --out output/filter1\n",
      "\n",
      "31930 MB RAM detected; reserving 15965 MB for main workspace.\n",
      "192673 variants loaded from .bim file.\n",
      "598 people (309 males, 289 females) loaded from .fam.\n",
      "598 phenotype values loaded from .fam.\n",
      "Using 1 thread (no multithreaded calculations invoked).\n",
      "Before main variant filters, 360 founders and 238 nonfounders present.\n",
      "Calculating allele frequencies... 10111213141516171819202122232425262728293031323334353637383940414243444546474849505152535455565758596061626364656667686970717273747576777879808182838485868788899091929394959697989 done.\n",
      "Total genotyping rate is 0.748747.\n",
      "78405 variants removed due to missing genotype data (--geno).\n",
      "114268 variants and 598 people pass filters and QC.\n",
      "Among remaining phenotypes, 241 are cases and 357 are controls.\n",
      "--make-bed to output/filter1.bed + output/filter1.bim + output/filter1.fam ...\n",
      "101112131415161718192021222324252627282930313233343536373839404142434445464748495051525354555657585960616263646566676869707172737475767778798081828384858687888990919293949596979899done.\n",
      "PLINK v1.90b6.12 64-bit (28 Oct 2019)          www.cog-genomics.org/plink/1.9/\n",
      "(C) 2005-2019 Shaun Purcell, Christopher Chang   GNU General Public License v3\n",
      "Logging to output/missingcc.log.\n",
      "Options in effect:\n",
      "  --bfile output/filter1\n",
      "  --out output/missingcc\n",
      "  --pfilter 0.00001\n",
      "  --test-missing\n",
      "\n",
      "31930 MB RAM detected; reserving 15965 MB for main workspace.\n",
      "114268 variants loaded from .bim file.\n",
      "598 people (309 males, 289 females) loaded from .fam.\n",
      "598 phenotype values loaded from .fam.\n",
      "Using 1 thread (no multithreaded calculations invoked).\n",
      "Before main variant filters, 360 founders and 238 nonfounders present.\n",
      "Calculating allele frequencies... 10111213141516171819202122232425262728293031323334353637383940414243444546474849505152535455565758596061626364656667686970717273747576777879808182838485868788899091929394959697989 done.\n",
      "Total genotyping rate is 0.996026.\n",
      "114268 variants and 598 people pass filters and QC.\n",
      "Among remaining phenotypes, 241 are cases and 357 are controls.\n",
      "Writing --test-missing report to output/missingcc.missing ... done.\n",
      "PLINK v1.90b6.12 64-bit (28 Oct 2019)          www.cog-genomics.org/plink/1.9/\n",
      "(C) 2005-2019 Shaun Purcell, Christopher Chang   GNU General Public License v3\n",
      "Logging to output/filter2.log.\n",
      "Options in effect:\n",
      "  --bfile output/filter1\n",
      "  --exclude output/missingcc.missing\n",
      "  --make-bed\n",
      "  --out output/filter2\n",
      "\n",
      "31930 MB RAM detected; reserving 15965 MB for main workspace.\n",
      "114268 variants loaded from .bim file.\n",
      "598 people (309 males, 289 females) loaded from .fam.\n",
      "598 phenotype values loaded from .fam.\n",
      "--exclude: 113483 variants remaining.\n",
      "Using 1 thread (no multithreaded calculations invoked).\n",
      "Before main variant filters, 360 founders and 238 nonfounders present.\n",
      "Calculating allele frequencies... 10111213141516171819202122232425262728293031323334353637383940414243444546474849505152535455565758596061626364656667686970717273747576777879808182838485868788899091929394959697989 done.\n",
      "Total genotyping rate is 0.99623.\n",
      "113483 variants and 598 people pass filters and QC.\n",
      "Among remaining phenotypes, 241 are cases and 357 are controls.\n",
      "--make-bed to output/filter2.bed + output/filter2.bim + output/filter2.fam ...\n",
      "101112131415161718192021222324252627282930313233343536373839404142434445464748495051525354555657585960616263646566676869707172737475767778798081828384858687888990919293949596979899done.\n",
      "PLINK v1.90b6.12 64-bit (28 Oct 2019)          www.cog-genomics.org/plink/1.9/\n",
      "(C) 2005-2019 Shaun Purcell, Christopher Chang   GNU General Public License v3\n",
      "Logging to output/filter3.log.\n",
      "Options in effect:\n",
      "  --bfile output/filter2\n",
      "  --hwe 0.0001\n",
      "  --make-bed\n",
      "  --out output/filter3\n",
      "\n",
      "31930 MB RAM detected; reserving 15965 MB for main workspace.\n",
      "113483 variants loaded from .bim file.\n",
      "598 people (309 males, 289 females) loaded from .fam.\n",
      "598 phenotype values loaded from .fam.\n",
      "Using 1 thread (no multithreaded calculations invoked).\n",
      "Before main variant filters, 360 founders and 238 nonfounders present.\n",
      "Calculating allele frequencies... 10111213141516171819202122232425262728293031323334353637383940414243444546474849505152535455565758596061626364656667686970717273747576777879808182838485868788899091929394959697989 done.\n",
      "Total genotyping rate is 0.99623.\n",
      "--hwe: 0 variants removed due to Hardy-Weinberg exact test.\n",
      "113483 variants and 598 people pass filters and QC.\n",
      "Among remaining phenotypes, 241 are cases and 357 are controls.\n",
      "--make-bed to output/filter3.bed + output/filter3.bim + output/filter3.fam ...\n",
      "101112131415161718192021222324252627282930313233343536373839404142434445464748495051525354555657585960616263646566676869707172737475767778798081828384858687888990919293949596979899done.\n",
      "PLINK v1.90b6.12 64-bit (28 Oct 2019)          www.cog-genomics.org/plink/1.9/\n",
      "(C) 2005-2019 Shaun Purcell, Christopher Chang   GNU General Public License v3\n",
      "Logging to output/filter4.log.\n",
      "Options in effect:\n",
      "  --bfile output/filter3\n",
      "  --maf 0.01\n",
      "  --make-bed\n",
      "  --out output/filter4\n",
      "\n",
      "31930 MB RAM detected; reserving 15965 MB for main workspace.\n",
      "113483 variants loaded from .bim file.\n",
      "598 people (309 males, 289 females) loaded from .fam.\n",
      "598 phenotype values loaded from .fam.\n",
      "Using 1 thread (no multithreaded calculations invoked).\n",
      "Before main variant filters, 360 founders and 238 nonfounders present.\n",
      "Calculating allele frequencies... 10111213141516171819202122232425262728293031323334353637383940414243444546474849505152535455565758596061626364656667686970717273747576777879808182838485868788899091929394959697989 done.\n",
      "Total genotyping rate is 0.99623.\n",
      "1398 variants removed due to minor allele threshold(s)\n",
      "(--maf/--max-maf/--mac/--max-mac).\n",
      "112085 variants and 598 people pass filters and QC.\n",
      "Among remaining phenotypes, 241 are cases and 357 are controls.\n",
      "--make-bed to output/filter4.bed + output/filter4.bim + output/filter4.fam ...\n",
      "101112131415161718192021222324252627282930313233343536373839404142434445464748495051525354555657585960616263646566676869707172737475767778798081828384858687888990919293949596979899done.\n"
     ]
    }
   ],
   "source": [
    "%%bash\n",
    "\n",
    "plink --bfile output/t1dcc --geno 0.05 --make-bed --out output/filter1\n",
    "plink --bfile output/filter1 --test-missing --pfilter 0.00001 --out output/missingcc\n",
    "plink --bfile output/filter1 --exclude output/missingcc.missing --make-bed --out output/filter2\n",
    "plink --bfile output/filter2 --hwe 0.0001 --make-bed --out output/filter3\n",
    "plink --bfile output/filter3 --maf 0.01 --make-bed --out output/filter4"
   ]
  },
  {
   "cell_type": "markdown",
   "metadata": {},
   "source": [
    "# Clean subjects"
   ]
  },
  {
   "cell_type": "code",
   "execution_count": 4,
   "metadata": {},
   "outputs": [
    {
     "name": "stdout",
     "output_type": "stream",
     "text": [
      "PLINK v1.90b6.12 64-bit (28 Oct 2019)          www.cog-genomics.org/plink/1.9/\n",
      "(C) 2005-2019 Shaun Purcell, Christopher Chang   GNU General Public License v3\n",
      "Logging to output/filter5.log.\n",
      "Options in effect:\n",
      "  --bfile output/filter4\n",
      "  --make-bed\n",
      "  --mind 0.05\n",
      "  --out output/filter5\n",
      "\n",
      "31930 MB RAM detected; reserving 15965 MB for main workspace.\n",
      "112085 variants loaded from .bim file.\n",
      "598 people (309 males, 289 females) loaded from .fam.\n",
      "598 phenotype values loaded from .fam.\n",
      "10 people removed due to missing genotype data (--mind).\n",
      "IDs written to output/filter5.irem .\n",
      "Using 1 thread (no multithreaded calculations invoked).\n",
      "Before main variant filters, 360 founders and 228 nonfounders present.\n",
      "Calculating allele frequencies... 10111213141516171819202122232425262728293031323334353637383940414243444546474849505152535455565758596061626364656667686970717273747576777879808182838485868788899091929394959697989 done.\n",
      "Total genotyping rate in remaining samples is 0.998742.\n",
      "112085 variants and 588 people pass filters and QC.\n",
      "Among remaining phenotypes, 231 are cases and 357 are controls.\n",
      "--make-bed to output/filter5.bed + output/filter5.bim + output/filter5.fam ...\n",
      "101112131415161718192021222324252627282930313233343536373839404142434445464748495051525354555657585960616263646566676869707172737475767778798081828384858687888990919293949596979899done.\n"
     ]
    }
   ],
   "source": [
    "%%bash\n",
    "\n",
    "plink --bfile output/filter4 --mind 0.05 --make-bed --out output/filter5"
   ]
  },
  {
   "cell_type": "markdown",
   "metadata": {},
   "source": [
    "# Look for relatedness with KING"
   ]
  },
  {
   "cell_type": "code",
   "execution_count": 5,
   "metadata": {},
   "outputs": [
    {
     "name": "stdout",
     "output_type": "stream",
     "text": [
      "KING 2.2.3 - (c) 2010-2019 Wei-Min Chen\n",
      "\n",
      "The following parameters are in effect:\n",
      "                   Binary File : output/filter5.bed (-bname)\n",
      "\n",
      "Additional Options\n",
      "         Close Relative Inference : --related [ON], --duplicate\n",
      "   Pairwise Relatedness Inference : --kinship [ON], --ibdseg, --ibs, --homog\n",
      "              Inference Parameter : --degree\n",
      "         Relationship Application : --unrelated, --cluster, --build\n",
      "                        QC Report : --bysample, --bySNP, --roh, --autoQC\n",
      "                     QC Parameter : --callrateN, --callrateM\n",
      "             Population Structure : --pca, --mds\n",
      "              Structure Parameter : --projection\n",
      "              Disease Association : --tdt\n",
      "   Quantitative Trait Association : --mtscore\n",
      "                Association Model : --trait [], --covariate []\n",
      "            Association Parameter : --invnorm, --maxP\n",
      "               Genetic Risk Score : --risk, --model [], --prevalence, --noflip\n",
      "              Computing Parameter : --cpus\n",
      "                   Optional Input : --fam [], --bim [], --sexchr [23]\n",
      "                           Output : --prefix [output/filter5], --rpath [],\n",
      "                                    --rplot\n",
      "\n",
      "The following analyses will run separately:  --related --kinship\n",
      "\n",
      "KING starts at Fri Jun 26 11:44:07 2020\n",
      "Loading genotype data in PLINK binary format...\n",
      "Read in PLINK fam file output/filter5.fam...\n",
      "  PLINK pedigrees loaded: 588 samples\n",
      "Read in PLINK bim file output/filter5.bim...\n",
      "  Genotype data consist of 112085 autosome SNPs\n",
      "  PLINK maps loaded: 112085 SNPs\n",
      "Read in PLINK bed file output/filter5.bed...\n",
      "  PLINK binary genotypes loaded.\n",
      "  KING format genotype data successfully converted.\n",
      "Autosome genotypes stored in 1752 words for each of 588 individuals.\n",
      "\n",
      "Options in effect:\n",
      "\t--related\n",
      "\t--prefix output/filter5\n",
      "\n",
      "Sorting autosomes...\n",
      "Total length of 57 chromosomal segments usable for IBD segment analysis is 2160.7 MB.\n",
      "  Information of these chromosomal segments can be found in file output/filter5allsegs.txt\n",
      "\n",
      "Within-family kinship data saved in file output/filter5.kin\n",
      "\n",
      "Relationship summary (total relatives: 6 by pedigree, 6 by inference)\n",
      "  Source\tMZ\tPO\tFS\t2nd\t3rd\tOTHER\n",
      "  ===========================================================\n",
      "  Pedigree\t0\t2\t4\t0\t0\t0\n",
      "  Inference\t1\t2\t3\t0\t0\t0\n",
      "\n",
      "A subset of informative SNPs will be used to screen close relatives.\n",
      "Relationship inference across families starts at Fri Jun 26 11:44:07 2020\n",
      "4 CPU cores are used...\n",
      "  Stages 1&2 (with 32768 SNPs): 5 pairs of relatives are detected (with kinship > 0.1250)\n",
      "                               Screening ends at Fri Jun 26 11:44:07 2020\n",
      "  Final Stage (with 112085 SNPs): 5 pairs of relatives (up to 1st-degree) are confirmed\n",
      "                               Inference ends at Fri Jun 26 11:44:07 2020\n",
      "\n",
      "Relationship summary (total relatives: 0 by pedigree, 5 by inference)\n",
      "        \tMZ\tPO\tFS\t2nd\n",
      "  =====================================================\n",
      "  Inference\t0\t0\t5\t0\n",
      "\n",
      "\n",
      "Between-family relatives (kinship >= 0.17678) saved in file output/filter5.kin0\n",
      "\n",
      "Note only duplicates and 1st-degree relatives are included in the inference.\n",
      "  Specifying '--degree 2' if a higher degree relationship inference is needed.\n",
      "\n",
      "Autosome genotypes stored in 1752 words for each of 588 individuals.\n",
      "\n",
      "Options in effect:\n",
      "\t--kinship\n",
      "\t--prefix output/filter5\n",
      "\n",
      "Within-family kinship data saved in file output/filter5.kin\n",
      "\n",
      "Relationship summary (total relatives: 6 by pedigree, 6 by inference)\n",
      "  Source\tMZ\tPO\tFS\t2nd\t3rd\tOTHER\n",
      "  ===========================================================\n",
      "  Pedigree\t0\t2\t4\t0\t0\t0\n",
      "  Inference\t1\t2\t3\t0\t0\t0\n",
      "\n",
      "Relationship inference across families starts at Fri Jun 26 11:44:07 2020\n",
      "4 CPU cores are used.\n",
      "                                         ends at Fri Jun 26 11:44:08 2020\n",
      "Between-family kinship data saved in file output/filter5.kin0\n",
      "Note --kinship --degree <n> can filter & speed up the kinship computing.\n",
      "KING ends at Fri Jun 26 11:44:08 2020\n",
      "KING 2.2.3 - (c) 2010-2019 Wei-Min Chen\n",
      "\n",
      "The following parameters are in effect:\n",
      "                   Binary File : output/filter5.bed (-bname)\n",
      "\n",
      "Additional Options\n",
      "         Close Relative Inference : --related, --duplicate\n",
      "   Pairwise Relatedness Inference : --kinship [ON], --ibdseg, --ibs, --homog\n",
      "              Inference Parameter : --degree\n",
      "         Relationship Application : --unrelated [ON], --cluster, --build\n",
      "                        QC Report : --bysample, --bySNP, --roh, --autoQC\n",
      "                     QC Parameter : --callrateN, --callrateM\n",
      "             Population Structure : --pca, --mds\n",
      "              Structure Parameter : --projection\n",
      "              Disease Association : --tdt\n",
      "   Quantitative Trait Association : --mtscore\n",
      "                Association Model : --trait [], --covariate []\n",
      "            Association Parameter : --invnorm, --maxP\n",
      "               Genetic Risk Score : --risk, --model [], --prevalence, --noflip\n",
      "              Computing Parameter : --cpus\n",
      "                   Optional Input : --fam [], --bim [], --sexchr [23]\n",
      "                           Output : --prefix [output/filter5], --rpath [],\n",
      "                                    --rplot\n",
      "\n",
      "The following analyses will run separately:  --kinship --unrelated\n",
      "\n",
      "KING starts at Fri Jun 26 11:44:08 2020\n",
      "Loading genotype data in PLINK binary format...\n",
      "Read in PLINK fam file output/filter5.fam...\n",
      "  PLINK pedigrees loaded: 588 samples\n",
      "Read in PLINK bim file output/filter5.bim...\n",
      "  Genotype data consist of 112085 autosome SNPs\n",
      "  PLINK maps loaded: 112085 SNPs\n",
      "Read in PLINK bed file output/filter5.bed...\n",
      "  PLINK binary genotypes loaded.\n",
      "  KING format genotype data successfully converted.\n",
      "Autosome genotypes stored in 1752 words for each of 588 individuals.\n",
      "\n",
      "Options in effect:\n",
      "\t--kinship\n",
      "\t--prefix output/filter5\n",
      "\n",
      "Within-family kinship data saved in file output/filter5.kin\n",
      "\n",
      "Relationship summary (total relatives: 6 by pedigree, 6 by inference)\n",
      "  Source\tMZ\tPO\tFS\t2nd\t3rd\tOTHER\n",
      "  ===========================================================\n",
      "  Pedigree\t0\t2\t4\t0\t0\t0\n",
      "  Inference\t1\t2\t3\t0\t0\t0\n",
      "\n",
      "Relationship inference across families starts at Fri Jun 26 11:44:08 2020\n",
      "4 CPU cores are used.\n",
      "                                         ends at Fri Jun 26 11:44:09 2020\n",
      "Between-family kinship data saved in file output/filter5.kin0\n",
      "Note --kinship --degree <n> can filter & speed up the kinship computing.\n",
      "\n",
      "Options in effect:\n",
      "\t--unrelated\n",
      "\t--prefix output/filter5\n",
      "\n",
      "Family clustering starts at Fri Jun 26 11:44:09 2020\n",
      "Autosome genotypes stored in 1752 words for each of 588 individuals.\n",
      "Sorting autosomes...\n",
      "Total length of 57 chromosomal segments usable for IBD segment analysis is 2160.7 MB.\n",
      "  Information of these chromosomal segments can be found in file output/filter5allsegs.txt\n",
      "\n",
      "4 CPU cores are used to compute the pairwise kinship coefficients...\n",
      "Clustering up to 1st-degree relatives in families...\n",
      "  Individual IDs are not unique and family IDs will be used as well.\n",
      "  E.g., FAM L000186 IID 1 and FAM L000365 IID 1 have the same individual ID\n",
      "\n",
      "Relationship summary (total relatives: 0 by pedigree, 5 by inference)\n",
      "        \tMZ\tPO\tFS\t2nd\n",
      "  =====================================================\n",
      "  Inference\t0\t0\t5\t0\n",
      "\n",
      "The following families are found to be connected\n",
      "  NewFamID  OriginalFamID                                     \n",
      "  KING1     L000466,L003119\n",
      "  KING2     L001328,L003176\n",
      "  KING3     L002206,L003183\n",
      "  KING4     L002238,L003204\n",
      "  KING5     L002951,L003200\n",
      "\n",
      "\n",
      "A list of 577 unrelated individuals saved in file output/filter5unrelated.txt\n",
      "An alternative list of 11 to-be-removed individuals saved in file output/filter5unrelated_toberemoved.txt\n",
      "\n",
      "Extracting a subset of unrelated individuals ends at Fri Jun 26 11:44:09 2020\n",
      "KING ends at Fri Jun 26 11:44:09 2020\n",
      "PLINK v1.90b6.12 64-bit (28 Oct 2019)          www.cog-genomics.org/plink/1.9/\n",
      "(C) 2005-2019 Shaun Purcell, Christopher Chang   GNU General Public License v3\n",
      "Logging to output/filter6.log.\n",
      "Options in effect:\n",
      "  --bfile output/filter5\n",
      "  --keep output/filter5unrelated.txt\n",
      "  --make-bed\n",
      "  --out output/filter6\n",
      "\n",
      "31930 MB RAM detected; reserving 15965 MB for main workspace.\n",
      "112085 variants loaded from .bim file.\n",
      "588 people (301 males, 287 females) loaded from .fam.\n",
      "588 phenotype values loaded from .fam.\n",
      "--keep: 572 people remaining.\n",
      "Using 1 thread (no multithreaded calculations invoked).\n",
      "Before main variant filters, 358 founders and 214 nonfounders present.\n",
      "Calculating allele frequencies... 10111213141516171819202122232425262728293031323334353637383940414243444546474849505152535455565758596061626364656667686970717273747576777879808182838485868788899091929394959697989 done.\n",
      "Total genotyping rate in remaining samples is 0.998751.\n",
      "112085 variants and 572 people pass filters and QC.\n",
      "Among remaining phenotypes, 215 are cases and 357 are controls.\n",
      "--make-bed to output/filter6.bed + output/filter6.bim + output/filter6.fam ...\n",
      "101112131415161718192021222324252627282930313233343536373839404142434445464748495051525354555657585960616263646566676869707172737475767778798081828384858687888990919293949596979899done.\n"
     ]
    }
   ],
   "source": [
    "%%bash\n",
    "\n",
    "king -b output/filter5.bed --kinship --related --prefix output/filter5\n",
    "king -b output/filter5.bed --kinship --unrelated --prefix output/filter5\n",
    "\n",
    "plink --bfile output/filter5 --keep output/filter5unrelated.txt --make-bed --out output/filter6"
   ]
  },
  {
   "cell_type": "markdown",
   "metadata": {},
   "source": [
    "# First association test"
   ]
  },
  {
   "cell_type": "code",
   "execution_count": 6,
   "metadata": {},
   "outputs": [
    {
     "name": "stdout",
     "output_type": "stream",
     "text": [
      "PLINK v1.90b6.12 64-bit (28 Oct 2019)          www.cog-genomics.org/plink/1.9/\n",
      "(C) 2005-2019 Shaun Purcell, Christopher Chang   GNU General Public License v3\n",
      "Logging to output/allelictest.log.\n",
      "Options in effect:\n",
      "  --adjust\n",
      "  --assoc\n",
      "  --bfile output/filter6\n",
      "  --out output/allelictest\n",
      "\n",
      "31930 MB RAM detected; reserving 15965 MB for main workspace.\n",
      "112085 variants loaded from .bim file.\n",
      "572 people (294 males, 278 females) loaded from .fam.\n",
      "572 phenotype values loaded from .fam.\n",
      "Using 1 thread (no multithreaded calculations invoked).\n",
      "Before main variant filters, 358 founders and 214 nonfounders present.\n",
      "Calculating allele frequencies... 10111213141516171819202122232425262728293031323334353637383940414243444546474849505152535455565758596061626364656667686970717273747576777879808182838485868788899091929394959697989 done.\n",
      "Total genotyping rate is 0.998751.\n",
      "112085 variants and 572 people pass filters and QC.\n",
      "Among remaining phenotypes, 215 are cases and 357 are controls.\n",
      "Writing C/C --assoc report to output/allelictest.assoc ...\n",
      "101112131415161718192021222324252627282930313233343536373839404142434445464748495051525354555657585960616263646566676869707172737475767778798081828384858687888990919293949596979899done.\n",
      "--adjust: Genomic inflation est. lambda (based on median chisq) = 2.40342.\n",
      "101112131415161718192021222324252627282930313233343536373839404142434445464748495051525354555657585960616263646566676869707172737475767778798081828384858687888990919293949596979899--adjust values (112085 variants) written to output/allelictest.assoc.adjusted\n",
      ".\n"
     ]
    }
   ],
   "source": [
    "%%bash\n",
    "\n",
    "plink --bfile output/filter6 --assoc --adjust --out output/allelictest"
   ]
  },
  {
   "cell_type": "markdown",
   "metadata": {},
   "source": [
    "# Start R"
   ]
  },
  {
   "cell_type": "code",
   "execution_count": 7,
   "metadata": {},
   "outputs": [
    {
     "name": "stderr",
     "output_type": "stream",
     "text": [
      "/home/pierre/.soft/miniconda3/envs/TP-GWAS/lib/python3.7/site-packages/rpy2/rinterface/__init__.py:146: RRuntimeWarning: \n",
      "\n",
      "  warnings.warn(x, RRuntimeWarning)\n",
      "/home/pierre/.soft/miniconda3/envs/TP-GWAS/lib/python3.7/site-packages/rpy2/rinterface/__init__.py:146: RRuntimeWarning: For example usage please run: vignette('qqman')\n",
      "\n",
      "  warnings.warn(x, RRuntimeWarning)\n",
      "/home/pierre/.soft/miniconda3/envs/TP-GWAS/lib/python3.7/site-packages/rpy2/rinterface/__init__.py:146: RRuntimeWarning: Citation appreciated but not required:\n",
      "\n",
      "  warnings.warn(x, RRuntimeWarning)\n",
      "/home/pierre/.soft/miniconda3/envs/TP-GWAS/lib/python3.7/site-packages/rpy2/rinterface/__init__.py:146: RRuntimeWarning: Turner, S.D. qqman: an R package for visualizing GWAS results using Q-Q and manhattan plots. biorXiv DOI: 10.1101/005165 (2014).\n",
      "\n",
      "  warnings.warn(x, RRuntimeWarning)\n"
     ]
    },
    {
     "data": {
      "text/plain": [
       "R version 3.6.0 (2019-04-26)\n",
       "Platform: x86_64-conda_cos6-linux-gnu (64-bit)\n",
       "Running under: Ubuntu 18.04.4 LTS\n",
       "\n",
       "Matrix products: default\n",
       "BLAS:   /home/pierre/.soft/miniconda3/envs/TP-GWAS/lib/R/lib/libRblas.so\n",
       "LAPACK: /home/pierre/.soft/miniconda3/envs/TP-GWAS/lib/R/lib/libRlapack.so\n",
       "\n",
       "locale:\n",
       " [1] LC_CTYPE=fr_FR.UTF-8       LC_NUMERIC=C              \n",
       " [3] LC_TIME=fr_FR.UTF-8        LC_COLLATE=fr_FR.UTF-8    \n",
       " [5] LC_MONETARY=fr_FR.UTF-8    LC_MESSAGES=fr_FR.UTF-8   \n",
       " [7] LC_PAPER=fr_FR.UTF-8       LC_NAME=C                 \n",
       " [9] LC_ADDRESS=C               LC_TELEPHONE=C            \n",
       "[11] LC_MEASUREMENT=fr_FR.UTF-8 LC_IDENTIFICATION=C       \n",
       "\n",
       "attached base packages:\n",
       "[1] tools     stats     graphics  grDevices utils     datasets  methods  \n",
       "[8] base     \n",
       "\n",
       "other attached packages:\n",
       "[1] qqman_0.1.4\n",
       "\n",
       "loaded via a namespace (and not attached):\n",
       "[1] MASS_7.3-51.6   compiler_3.6.0  calibrate_1.7.7\n"
      ]
     },
     "metadata": {},
     "output_type": "display_data"
    }
   ],
   "source": [
    "%%R\n",
    "library(qqman)\n",
    "sessionInfo()"
   ]
  },
  {
   "cell_type": "code",
   "execution_count": 8,
   "metadata": {},
   "outputs": [
    {
     "data": {
      "text/plain": [
       "  SNP CHR BP         P\n",
       "1 rs1   1  1 0.9148060\n",
       "2 rs2   1  2 0.9370754\n",
       "3 rs3   1  3 0.2861395\n",
       "4 rs4   1  4 0.8304476\n",
       "5 rs5   1  5 0.6417455\n",
       "6 rs6   1  6 0.5190959\n"
      ]
     },
     "metadata": {},
     "output_type": "display_data"
    }
   ],
   "source": [
    "%%R\n",
    "gwasoutputults <- read.table(\"output/allelictest.assoc\",header=T)\n",
    "head(gwasResults)"
   ]
  },
  {
   "cell_type": "code",
   "execution_count": 9,
   "metadata": {},
   "outputs": [
    {
     "data": {
      "text/plain": [
       "png \n",
       "  2 \n"
      ]
     },
     "metadata": {},
     "output_type": "display_data"
    }
   ],
   "source": [
    "%%R \n",
    "png(\"output/manhattan.png\")\n",
    "manhattan(gwasResults)\n",
    "dev.off()"
   ]
  },
  {
   "cell_type": "markdown",
   "metadata": {},
   "source": [
    "![](output/manhattan.png)"
   ]
  },
  {
   "cell_type": "code",
   "execution_count": 10,
   "metadata": {},
   "outputs": [
    {
     "data": {
      "text/plain": [
       "png \n",
       "  2 \n"
      ]
     },
     "metadata": {},
     "output_type": "display_data"
    }
   ],
   "source": [
    "%%R\n",
    "png(\"output/qqplot.png\")\n",
    "qq(gwasResults$P, main=\"Q-Qplot of P-values\")\n",
    "dev.off()"
   ]
  },
  {
   "cell_type": "markdown",
   "metadata": {},
   "source": [
    "![](output/qqplot.png)"
   ]
  },
  {
   "cell_type": "markdown",
   "metadata": {},
   "source": [
    "# Perform MDS analysis"
   ]
  },
  {
   "cell_type": "code",
   "execution_count": 11,
   "metadata": {},
   "outputs": [
    {
     "name": "stdout",
     "output_type": "stream",
     "text": [
      "PLINK v1.90b6.12 64-bit (28 Oct 2019)          www.cog-genomics.org/plink/1.9/\n",
      "(C) 2005-2019 Shaun Purcell, Christopher Chang   GNU General Public License v3\n",
      "Logging to output/withoutmhc.log.\n",
      "Options in effect:\n",
      "  --bfile output/filter6\n",
      "  --exclude input/mhc_range.txt\n",
      "  --make-bed\n",
      "  --out output/withoutmhc\n",
      "  --range\n",
      "\n",
      "Note: --range flag deprecated.  Use e.g. \"--extract range <filename>\".\n",
      "31930 MB RAM detected; reserving 15965 MB for main workspace.\n",
      "112085 variants loaded from .bim file.\n",
      "572 people (294 males, 278 females) loaded from .fam.\n",
      "572 phenotype values loaded from .fam.\n",
      "--exclude range: 7084 variants excluded.\n",
      "--exclude range: 105001 variants remaining.\n",
      "Using 1 thread (no multithreaded calculations invoked).\n",
      "Before main variant filters, 358 founders and 214 nonfounders present.\n",
      "Calculating allele frequencies... 10111213141516171819202122232425262728293031323334353637383940414243444546474849505152535455565758596061626364656667686970717273747576777879808182838485868788899091929394959697989 done.\n",
      "Total genotyping rate is 0.998775.\n",
      "105001 variants and 572 people pass filters and QC.\n",
      "Among remaining phenotypes, 215 are cases and 357 are controls.\n",
      "--make-bed to output/withoutmhc.bed + output/withoutmhc.bim +\n",
      "output/withoutmhc.fam ... 101112131415161718192021222324252627282930313233343536373839404142434445464748495051525354555657585960616263646566676869707172737475767778798081828384858687888990919293949596979899done.\n",
      "PLINK v1.90b6.12 64-bit (28 Oct 2019)          www.cog-genomics.org/plink/1.9/\n",
      "(C) 2005-2019 Shaun Purcell, Christopher Chang   GNU General Public License v3\n",
      "Logging to output/indep.log.\n",
      "Options in effect:\n",
      "  --bfile output/withoutmhc\n",
      "  --indep 50 5 2\n",
      "  --out output/indep\n",
      "\n",
      "31930 MB RAM detected; reserving 15965 MB for main workspace.\n",
      "105001 variants loaded from .bim file.\n",
      "572 people (294 males, 278 females) loaded from .fam.\n",
      "572 phenotype values loaded from .fam.\n",
      "Using 1 thread (no multithreaded calculations invoked).\n",
      "Before main variant filters, 358 founders and 214 nonfounders present.\n",
      "Calculating allele frequencies... 10111213141516171819202122232425262728293031323334353637383940414243444546474849505152535455565758596061626364656667686970717273747576777879808182838485868788899091929394959697989 done.\n",
      "Total genotyping rate is 0.998775.\n",
      "105001 variants and 572 people pass filters and QC.\n",
      "Among remaining phenotypes, 215 are cases and 357 are controls.\n",
      "Pruned 8547 variants from chromosome 1, leaving 3366.\n",
      "Pruned 9225 variants from chromosome 2, leaving 3234.\n",
      "Pruned 5275 variants from chromosome 3, leaving 2045.\n",
      "Pruned 2164 variants from chromosome 4, leaving 1515.\n",
      "Pruned 5630 variants from chromosome 5, leaving 2237.\n",
      "Pruned 4358 variants from chromosome 6, leaving 1920.\n",
      "Pruned 3014 variants from chromosome 7, leaving 1590.\n",
      "Pruned 3422 variants from chromosome 8, leaving 1596.\n",
      "Pruned 2777 variants from chromosome 9, leaving 1306.\n",
      "Pruned 4544 variants from chromosome 10, leaving 1827.\n",
      "Pruned 3366 variants from chromosome 11, leaving 1587.\n",
      "Pruned 3828 variants from chromosome 12, leaving 1631.\n",
      "Pruned 1590 variants from chromosome 13, leaving 924.\n",
      "Pruned 2901 variants from chromosome 14, leaving 1047.\n",
      "Pruned 843 variants from chromosome 15, leaving 738.\n",
      "Pruned 2906 variants from chromosome 16, leaving 1227.\n",
      "Pruned 2140 variants from chromosome 17, leaving 952.\n",
      "Pruned 1178 variants from chromosome 18, leaving 735.\n",
      "Pruned 1721 variants from chromosome 19, leaving 843.\n",
      "Pruned 1455 variants from chromosome 20, leaving 813.\n",
      "Pruned 782 variants from chromosome 21, leaving 411.\n",
      "Pruned 1243 variants from chromosome 22, leaving 548.\n",
      "Pruning complete.  72909 of 105001 variants removed.\n",
      "Marker lists written to output/indep.prune.in and output/indep.prune.out .\n",
      "PLINK v1.90b6.12 64-bit (28 Oct 2019)          www.cog-genomics.org/plink/1.9/\n",
      "(C) 2005-2019 Shaun Purcell, Christopher Chang   GNU General Public License v3\n",
      "Logging to output/withoutld.log.\n",
      "Options in effect:\n",
      "  --bfile output/withoutmhc\n",
      "  --extract output/indep.prune.in\n",
      "  --make-bed\n",
      "  --out output/withoutld\n",
      "\n",
      "31930 MB RAM detected; reserving 15965 MB for main workspace.\n",
      "105001 variants loaded from .bim file.\n",
      "572 people (294 males, 278 females) loaded from .fam.\n",
      "572 phenotype values loaded from .fam.\n",
      "--extract: 32092 variants remaining.\n",
      "Using 1 thread (no multithreaded calculations invoked).\n",
      "Before main variant filters, 358 founders and 214 nonfounders present.\n",
      "Calculating allele frequencies... 10111213141516171819202122232425262728293031323334353637383940414243444546474849505152535455565758596061626364656667686970717273747576777879808182838485868788899091929394959697989 done.\n",
      "Total genotyping rate is 0.998728.\n",
      "32092 variants and 572 people pass filters and QC.\n",
      "Among remaining phenotypes, 215 are cases and 357 are controls.\n",
      "--make-bed to output/withoutld.bed + output/withoutld.bim +\n",
      "output/withoutld.fam ... 101112131415161718192021222324252627282930313233343536373839404142434445464748495051525354555657585960616263646566676869707172737475767778798081828384858687888990919293949596979899done.\n",
      "KING 2.2.3 - (c) 2010-2019 Wei-Min Chen\n",
      "\n",
      "The following parameters are in effect:\n",
      "                   Binary File : output/withoutld.bed (-bname)\n",
      "\n",
      "Additional Options\n",
      "         Close Relative Inference : --related, --duplicate\n",
      "   Pairwise Relatedness Inference : --kinship, --ibdseg, --ibs [ON], --homog\n",
      "              Inference Parameter : --degree\n",
      "         Relationship Application : --unrelated, --cluster, --build\n",
      "                        QC Report : --bysample, --bySNP, --roh, --autoQC\n",
      "                     QC Parameter : --callrateN, --callrateM\n",
      "             Population Structure : --pca, --mds [ON]\n",
      "              Structure Parameter : --projection\n",
      "              Disease Association : --tdt\n",
      "   Quantitative Trait Association : --mtscore\n",
      "                Association Model : --trait [], --covariate []\n",
      "            Association Parameter : --invnorm, --maxP\n",
      "               Genetic Risk Score : --risk, --model [], --prevalence, --noflip\n",
      "              Computing Parameter : --cpus\n",
      "                   Optional Input : --fam [], --bim [], --sexchr [23]\n",
      "                           Output : --prefix [output/stratifwithoutld],\n",
      "                                    --rpath [], --rplot\n",
      "\n",
      "The following analyses will run separately:  --ibs --mds\n",
      "\n",
      "KING starts at Fri Jun 26 11:44:14 2020\n",
      "Loading genotype data in PLINK binary format...\n",
      "Read in PLINK fam file output/withoutld.fam...\n",
      "  PLINK pedigrees loaded: 572 samples\n",
      "Read in PLINK bim file output/withoutld.bim...\n",
      "  Genotype data consist of 32092 autosome SNPs\n",
      "  PLINK maps loaded: 32092 SNPs\n",
      "Read in PLINK bed file output/withoutld.bed...\n",
      "  PLINK binary genotypes loaded.\n",
      "  KING format genotype data successfully converted.\n",
      "Autosome genotypes stored in 502 words for each of 572 individuals.\n",
      "\n",
      "Options in effect:\n",
      "\t--ibs\n",
      "\t--prefix output/stratifwithoutld\n",
      "\n",
      "Total length of 38 chromosomal segments usable for IBD segment analysis is 1635.8 MB.\n",
      "  Information of these chromosomal segments can be found in file output/stratifwithoutldallsegs.txt\n",
      "\n",
      "Each family consists of one individual.\n",
      "IBS and relationship inference across families starts at Fri Jun 26 11:44:14 2020\n",
      "4 CPU cores are used.\n",
      "                                         ends at Fri Jun 26 11:44:15 2020\n",
      "Between-family IBS data saved in file output/stratifwithoutld.ibs0\n",
      "\n",
      "Options in effect:\n",
      "\t--mds\n",
      "\t--prefix output/stratifwithoutld\n",
      "\n",
      "MDS starts at Fri Jun 26 11:44:15 2020\n",
      "Genotypes stored in 502 words for each of 572 individuals.\n",
      "4 CPU cores are used.\n",
      "SVD starts at Fri Jun 26 11:44:15 2020\n",
      "  LAPACK is being used...\n",
      "Largest 20 eigenvalues: 1.62 0.52 0.36 0.35 0.35 0.34 0.34 0.34 0.34 0.33 0.33 0.33 0.33 0.33 0.33 0.33 0.33 0.33 0.32 0.32\n",
      "The first 20 PCs are able to explain 8.18 / 135.00 = 6.1% of total variance.\n",
      "The proportion of total variance explained (%) by each PC is:\n",
      "   1.2 0.4 0.3 0.3 0.3 0.3 0.3 0.2 0.2 0.2 0.2 0.2 0.2 0.2 0.2 0.2 0.2 0.2 0.2 0.2\n",
      "MDS ends at Fri Jun 26 11:44:15 2020\n",
      "20 principal components saved in file output/stratifwithoutldpc.txt\n",
      "KING ends at Fri Jun 26 11:44:15 2020\n"
     ]
    }
   ],
   "source": [
    "%%bash\n",
    "\n",
    "plink --bfile output/filter6 --exclude input/mhc_range.txt --range --make-bed --out output/withoutmhc\n",
    "plink --bfile output/withoutmhc --indep 50 5 2 --out output/indep\n",
    "plink --bfile output/withoutmhc --extract output/indep.prune.in --make-bed --out output/withoutld\n",
    "king -b output/withoutld.bed --mds --ibs --prefix output/stratifwithoutld"
   ]
  },
  {
   "cell_type": "markdown",
   "metadata": {},
   "source": [
    "# Start R"
   ]
  },
  {
   "cell_type": "code",
   "execution_count": 12,
   "metadata": {},
   "outputs": [
    {
     "data": {
      "text/plain": [
       "png \n",
       "  2 \n"
      ]
     },
     "metadata": {},
     "output_type": "display_data"
    }
   ],
   "source": [
    "%%R\n",
    "mds <- read.table(\"output/stratifwithoutldpc.txt\", header=F)\n",
    "png(\"output/mds.png\")\n",
    "par(mfrow=c(2,2))\n",
    "plot(mds$V7, mds$V8, type=\"n\", main=\"MDS vectors 1 and 2 in Controls\")\n",
    "points(mds$V7[1:357], mds$V8[1:357], col=\"black\")\n",
    "plot(mds$V7, mds$V8, type=\"n\",main=\"MDS vectors 1 and 2 in Cases\" )\n",
    "points(mds$V7[358:577], mds$V8[358:577], col=\"red\")\n",
    "plot(mds$V8, mds$V9, type=\"n\", main=\"MDS vectors 2 and 3 in Controls\")\n",
    "points(mds$V8[1:357], mds$V9[1:357], col=\"black\")\n",
    "plot(mds$V8, mds$V9, type=\"n\", main=\"MDS vectors 2 and 3 in Cases\")\n",
    "points(mds$V8[358:577], mds$V9[358:577], col=\"red\")\n",
    "dev.off()"
   ]
  },
  {
   "cell_type": "markdown",
   "metadata": {},
   "source": [
    "![](output/mds.png)"
   ]
  },
  {
   "cell_type": "markdown",
   "metadata": {},
   "source": [
    "# 2nd association test, after MDS"
   ]
  },
  {
   "cell_type": "code",
   "execution_count": 13,
   "metadata": {},
   "outputs": [
    {
     "name": "stdout",
     "output_type": "stream",
     "text": [
      "PLINK v1.90b6.12 64-bit (28 Oct 2019)          www.cog-genomics.org/plink/1.9/\n",
      "(C) 2005-2019 Shaun Purcell, Christopher Chang   GNU General Public License v3\n",
      "Logging to output/logistic_mds_PC5.log.\n",
      "Options in effect:\n",
      "  --adjust\n",
      "  --bfile output/filter6\n",
      "  --ci 0.95\n",
      "  --covar output/stratifwithoutldpc.txt\n",
      "  --covar-number 7-11\n",
      "  --logistic hide-covar\n",
      "  --out output/logistic_mds_PC5\n",
      "\n",
      "31930 MB RAM detected; reserving 15965 MB for main workspace.\n",
      "112085 variants loaded from .bim file.\n",
      "572 people (294 males, 278 females) loaded from .fam.\n",
      "572 phenotype values loaded from .fam.\n",
      "Using 1 thread (no multithreaded calculations invoked).\n",
      "--covar: 5 out of 24 covariates loaded.\n",
      "Before main variant filters, 358 founders and 214 nonfounders present.\n",
      "Calculating allele frequencies... 10111213141516171819202122232425262728293031323334353637383940414243444546474849505152535455565758596061626364656667686970717273747576777879808182838485868788899091929394959697989 done.\n",
      "Total genotyping rate is 0.998751.\n",
      "112085 variants and 572 people pass filters and QC.\n",
      "Among remaining phenotypes, 215 are cases and 357 are controls.\n",
      "Writing logistic model association results to\n",
      "output/logistic_mds_PC5.assoc.logistic ... 101112131415161718192021222324252627282930313233343536373839404142434445464748495051525354555657585960616263646566676869707172737475767778798081828384858687888990919293949596979899done.\n",
      "--adjust: Genomic inflation est. lambda (based on median chisq) = 3.66312.\n",
      "101112131415161718192021222324252627282930313233343536373839404142434445464748495051525354555657585960616263646566676869707172737475767778798081828384858687888990919293949596979899--adjust values (111878 variants) written to\n",
      "output/logistic_mds_PC5.assoc.logistic.adjusted .\n"
     ]
    }
   ],
   "source": [
    "%%bash\n",
    "\n",
    "plink --bfile output/filter6 --logistic hide-covar --adjust --covar output/stratifwithoutldpc.txt --covar-number 7-11 --ci 0.95 --out output/logistic_mds_PC5"
   ]
  },
  {
   "cell_type": "markdown",
   "metadata": {},
   "source": [
    "# Start R"
   ]
  },
  {
   "cell_type": "code",
   "execution_count": 14,
   "metadata": {},
   "outputs": [
    {
     "data": {
      "text/plain": [
       "png \n",
       "  2 \n"
      ]
     },
     "metadata": {},
     "output_type": "display_data"
    }
   ],
   "source": [
    "%%R\n",
    "gwasResultsAfterMDS <- read.table(\"output/logistic_mds_PC5.assoc.logistic\", header=T)\n",
    "head(gwasResultsAfterMDS)\n",
    "library(qqman)\n",
    "\n",
    "png(\"output/manhattan_mds.png\")\n",
    "manhattan(gwasResultsAfterMDS[! is.na(gwasResultsAfterMDS$P),])\n",
    "dev.off()"
   ]
  },
  {
   "cell_type": "markdown",
   "metadata": {},
   "source": [
    "![](output/manhattan_mds.png)"
   ]
  },
  {
   "cell_type": "code",
   "execution_count": 15,
   "metadata": {},
   "outputs": [
    {
     "data": {
      "text/plain": [
       "png \n",
       "  2 \n"
      ]
     },
     "metadata": {},
     "output_type": "display_data"
    }
   ],
   "source": [
    "%%R\n",
    "png(\"output/qqplot_mds.png\")\n",
    "qq(gwasResultsAfterMDS$P, main=\"Q-Qplot of P-values\")\n",
    "dev.off()"
   ]
  },
  {
   "cell_type": "markdown",
   "metadata": {},
   "source": [
    "![](output/qqplot_mds.png)"
   ]
  },
  {
   "cell_type": "markdown",
   "metadata": {},
   "source": [
    "# Trios analysis"
   ]
  },
  {
   "cell_type": "code",
   "execution_count": 16,
   "metadata": {},
   "outputs": [
    {
     "name": "stdout",
     "output_type": "stream",
     "text": [
      "PLINK v1.90b6.12 64-bit (28 Oct 2019)          www.cog-genomics.org/plink/1.9/\n",
      "(C) 2005-2019 Shaun Purcell, Christopher Chang   GNU General Public License v3\n",
      "Logging to output/tdttrio.log.\n",
      "Options in effect:\n",
      "  --adjust\n",
      "  --bfile input/ic_trio\n",
      "  --out output/tdttrio\n",
      "  --tdt\n",
      "\n",
      "31930 MB RAM detected; reserving 15965 MB for main workspace.\n",
      "140197 variants loaded from .bim file.\n",
      "685 people (359 males, 326 females) loaded from .fam.\n",
      "685 phenotype values loaded from .fam.\n",
      "Using 1 thread (no multithreaded calculations invoked).\n",
      "Before main variant filters, 284 founders and 401 nonfounders present.\n",
      "Calculating allele frequencies... 10111213141516171819202122232425262728293031323334353637383940414243444546474849505152535455565758596061626364656667686970717273747576777879808182838485868788899091929394959697989 done.\n",
      "Total genotyping rate is 0.913213.\n",
      "140197 variants and 685 people pass filters and QC.\n",
      "Among remaining phenotypes, 241 are cases and 444 are controls.\n",
      "--tdt: Report written to output/tdttrio.tdt .19202021212222232324242525262627272828292930303131323233333434353536363737383839394040414142424343444445454646474748484949505051515252535354545555565657575858595960606161626263636464656566666767686869697070717172727373747475757676777778787979808081818282838384848585868687878888898990909191929293939494959596969797989899\n",
      "--adjust: Genomic inflation est. lambda (based on median chisq) = 1.16648.\n",
      "101112131415161718192021222324252627282930313233343536373839404142434445464748495051525354555657585960616263646566676869707172737475767778798081828384858687888990919293949596979899--adjust values (140196 variants) written to output/tdttrio.tdt.adjusted .\n"
     ]
    }
   ],
   "source": [
    "%%bash\n",
    "\n",
    "plink --bfile input/ic_trio --tdt --adjust --out output/tdttrio"
   ]
  },
  {
   "cell_type": "markdown",
   "metadata": {},
   "source": [
    "# Start R"
   ]
  },
  {
   "cell_type": "code",
   "execution_count": 17,
   "metadata": {},
   "outputs": [
    {
     "data": {
      "text/plain": [
       "  CHR        SNP      BP A1 A2  T  U     OR  CHISQ      P A.U_PAR CHISQ_PAR\n",
       "1   1 rs61733845 1118275  A  G 11 16 0,6875 0,9259 0,3359     0:0        NA\n",
       "2   1  rs1320571 1120431  A  G 10 12 0,8333 0,1818 0,6698     0:2         2\n",
       "3   1  rs9729550 1135242  G  T 36 37 0,9730 0,0137 0,9068     0:2         1\n",
       "4   1  rs1815606 1140435  A  C 35 42 0,8333 0,6364 0,4250     0:2         1\n",
       "5   1  rs7515488 1163804  T  C 21 31 0,6774 1,9230 0,1655     0:0        NA\n",
       "6   1 rs11260562 1165310  T  C 16 21 0,7619 0,6757 0,4111     0:1         1\n",
       "   P_PAR CHISQ_COM  P_COM\n",
       "1     NA    0,9259 0,3359\n",
       "2 0,1573    0,6667 0,4142\n",
       "3 0,3173    0,1169 0,7324\n",
       "4 0,3173    1,0000 0,3173\n",
       "5     NA    1,9230 0,1655\n",
       "6 0,3173    0,9474 0,3304\n"
      ]
     },
     "metadata": {},
     "output_type": "display_data"
    }
   ],
   "source": [
    "%%R\n",
    "library(qqman)\n",
    "tdt <- read.table(\"output/tdttrio.tdt\", header=T)\n",
    "head(tdt)"
   ]
  },
  {
   "cell_type": "code",
   "execution_count": 18,
   "metadata": {},
   "outputs": [
    {
     "data": {
      "text/plain": [
       "png \n",
       "  2 \n"
      ]
     },
     "metadata": {},
     "output_type": "display_data"
    }
   ],
   "source": [
    "%%R\n",
    "png(\"output/manhattan_trios.png\")\n",
    "manhattan(tdt[! is.na(tdt$P),], p=\"P\")\n",
    "dev.off()"
   ]
  },
  {
   "cell_type": "markdown",
   "metadata": {},
   "source": [
    "![](output/manhattan_trios.png)"
   ]
  },
  {
   "cell_type": "code",
   "execution_count": 19,
   "metadata": {},
   "outputs": [
    {
     "data": {
      "text/plain": [
       "png \n",
       "  2 \n"
      ]
     },
     "metadata": {},
     "output_type": "display_data"
    }
   ],
   "source": [
    "%%R\n",
    "png(\"output/qqplot_trios.png\")\n",
    "qq(tdt$P)\n",
    "dev.off()"
   ]
  },
  {
   "cell_type": "markdown",
   "metadata": {},
   "source": [
    "![](output/qqplot_trios.png)"
   ]
  },
  {
   "cell_type": "code",
   "execution_count": null,
   "metadata": {},
   "outputs": [],
   "source": []
  }
 ],
 "metadata": {
  "kernelspec": {
   "display_name": "Python 3",
   "language": "python",
   "name": "python3"
  },
  "language_info": {
   "codemirror_mode": {
    "name": "ipython",
    "version": 3
   },
   "file_extension": ".py",
   "mimetype": "text/x-python",
   "name": "python",
   "nbconvert_exporter": "python",
   "pygments_lexer": "ipython3",
   "version": "3.7.6"
  }
 },
 "nbformat": 4,
 "nbformat_minor": 4
}
